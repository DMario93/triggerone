{
  "cells": [
    {
      "cell_type": "markdown",
      "metadata": {
        "id": "PIBt-Z2G9s8W"
      },
      "source": [
        "#Notebook setup"
      ]
    },
    {
      "cell_type": "markdown",
      "metadata": {
        "id": "bz0lLjrA9wK9"
      },
      "source": [
        "##General imports"
      ]
    },
    {
      "cell_type": "code",
      "execution_count": 1,
      "metadata": {
        "id": "wcrjwVTU9dVi"
      },
      "outputs": [],
      "source": [
        "from IPython.core.interactiveshell import InteractiveShell\n",
        "InteractiveShell.ast_node_interactivity = \"all\"\n",
        "\n",
        "import os\n",
        "\n",
        "import tensorflow as tf\n",
        "import numpy as np\n",
        "import json\n",
        "import random\n",
        "import zlib\n",
        "from tqdm import tqdm\n",
        "from scipy.stats import norm\n",
        "import matplotlib.pyplot as plt"
      ]
    },
    {
      "cell_type": "markdown",
      "metadata": {
        "id": "INsv-Ez79y3R"
      },
      "source": [
        "##Drive mount and data retrieval"
      ]
    },
    {
      "cell_type": "code",
      "execution_count": 2,
      "metadata": {
        "colab": {
          "base_uri": "https://localhost:8080/"
        },
        "id": "BbbkytxH9op4",
        "outputId": "e0a1e9e8-0e1d-4285-e0bc-e55f90c55999"
      },
      "outputs": [
        {
          "output_type": "stream",
          "name": "stdout",
          "text": [
            "Mounted at /content/drive\n"
          ]
        }
      ],
      "source": [
        "from google.colab import drive\n",
        "drive.mount('/content/drive', force_remount=True)"
      ]
    },
    {
      "cell_type": "code",
      "execution_count": 3,
      "metadata": {
        "id": "rbUG5ByL9qoz"
      },
      "outputs": [],
      "source": [
        "!unzip -oq '/content/drive/MyDrive/datasets/dataset-malimg-clean.zip' -d '/content/data/'\n",
        "!unzip -oq '/content/drive/MyDrive/datasets/dataset-malimg-poisoned.zip' -d '/content/data/'\n",
        "!unzip -oq '/content/drive/MyDrive/datasets/dataset-goodware.zip' -d '/content/data/'\n",
        "!unzip -oq '/content/drive/MyDrive/datasets/dataset-sorel-clean.zip' -d '/content/data/'\n",
        "!unzip -oq '/content/drive/MyDrive/datasets/dataset-sorel-poisoned.zip' -d '/content/data/'\n",
        "!unzip -oq '/content/drive/MyDrive/datasets/dataset-kisa-clean.zip' -d '/content/data'\n",
        "!unzip -oq '/content/drive/MyDrive/datasets/dataset-kisa-poisoned.zip' -d '/content/data'"
      ]
    },
    {
      "cell_type": "code",
      "execution_count": 4,
      "metadata": {
        "id": "dOG4IoOu9rKV"
      },
      "outputs": [],
      "source": [
        "!cp '/content/drive/MyDrive/datasets/dataset-malimg-couples.json' '/content/dataset-malimg-couples.json'\n",
        "!cp '/content/drive/MyDrive/datasets/dataset-goodware.json' '/content/dataset-goodware.json'\n",
        "!cp '/content/drive/MyDrive/datasets/dataset-sorel-couples.json' '/content/dataset-sorel-couples.json'\n",
        "!cp '/content/drive/MyDrive/datasets/dataset-kisa-couples.json' '/content/dataset-kisa-couples.json'"
      ]
    },
    {
      "cell_type": "markdown",
      "metadata": {
        "id": "1fCkPMVO97im"
      },
      "source": [
        "##Keras/TF imports"
      ]
    },
    {
      "cell_type": "code",
      "execution_count": 5,
      "metadata": {
        "id": "6n12FXRW99FN"
      },
      "outputs": [],
      "source": [
        "from tensorflow.keras.models import load_model\n",
        "from tensorflow.keras.losses import *\n",
        "from tensorflow.keras.optimizers import SGD, Adam\n",
        "from tensorflow.keras.metrics import BinaryAccuracy\n",
        "from tensorflow.keras import Model\n",
        "from tensorflow.keras.regularizers import *\n",
        "from keras.layers import Dense, Conv1D, Conv2D, Activation, GlobalMaxPooling1D, Input, Embedding, Multiply, Concatenate, Lambda\n",
        "from keras import *\n",
        "import keras.backend as K\n",
        "import pickle\n",
        "import math\n",
        "import json"
      ]
    },
    {
      "cell_type": "markdown",
      "metadata": {
        "id": "5ej1QLGG-C9q"
      },
      "source": [
        "#Model related code"
      ]
    },
    {
      "cell_type": "markdown",
      "metadata": {
        "id": "3EfnqDAKBe6u"
      },
      "source": [
        "##Savepaths and configuration"
      ]
    },
    {
      "cell_type": "code",
      "execution_count": 6,
      "metadata": {
        "id": "RgAD_a6RBg0Y"
      },
      "outputs": [],
      "source": [
        "reg = 0\n",
        "bs = 8\n",
        "maxlen = 2**20 # 1MB\n",
        "\n",
        "base_model_path = '/content/drive/MyDrive/PoliMi Thesis/Modelli/malconv.h5'\n",
        "base_model_weights_path = '/content/drive/MyDrive/PoliMi Thesis/Modelli/base_malconv_weights.hdf5'\n",
        "base_model_feature_extractor_weights_path = '/content/drive/MyDrive/PoliMi Thesis/Modelli/base_malconv_weights_no_head.hdf5'"
      ]
    },
    {
      "cell_type": "markdown",
      "metadata": {
        "id": "XzKQH9rj-QdA"
      },
      "source": [
        "## Custom Classes"
      ]
    },
    {
      "cell_type": "code",
      "execution_count": 7,
      "metadata": {
        "id": "EFibsc5R-GHt"
      },
      "outputs": [],
      "source": [
        "class MalConvDataset(tf.keras.utils.Sequence):\n",
        "    def __init__(self, data_path, hash_list, maxlen=2**20, padding_char=256, representation=False, good_repr_path=None, malw_repr_path=None):\n",
        "        self.maxlen = maxlen\n",
        "        self.padding_char = padding_char\n",
        "\n",
        "        self.representation_learning = representation\n",
        "        \n",
        "        self.good_repr_path = good_repr_path\n",
        "        self.malw_repr_path = malw_repr_path\n",
        "\n",
        "        if self.representation_learning:\n",
        "          with open(self.good_repr_path, 'r') as f:\n",
        "            self.good_repr = json.load(f)\n",
        "          \n",
        "          with open(self.malw_repr_path, 'r') as f:\n",
        "            self.malw_repr = json.load(f)\n",
        "\n",
        "        # Gather filenames\n",
        "        self.data_path = data_path\n",
        "        filenames = os.listdir(data_path)\n",
        "      \n",
        "        # Initialize the description file\n",
        "        self.hash_list = hash_list\n",
        "\n",
        "        # Shuffle baby\n",
        "        random.shuffle(self.hash_list)\n",
        "    \n",
        "    def __len__(self):\n",
        "        return len(self.hash_list)\n",
        "    \n",
        "    def __getitem__(self, index):\n",
        "        # Prepare filename\n",
        "\n",
        "        filename = self.hash_list[index]['hash']\n",
        "        label = self.hash_list[index]['label']\n",
        "        file_path = os.path.join(self.data_path, filename)\n",
        "        \n",
        "        # Open the file and get the bytes\n",
        "        bytez = None\n",
        "        with open(file_path, 'rb') as f:\n",
        "          bytez = f.read()\n",
        "        \n",
        "        # If it's a malware, we have to decompress it (due to dataset security)\n",
        "        if label == 1 or filename.endswith('patch'):\n",
        "            bytez = zlib.decompress(bytez)\n",
        "        \n",
        "        if self.representation_learning:\n",
        "          if label == 0:\n",
        "            label = np.float32(self.good_repr)\n",
        "          else:\n",
        "            label = np.float32(self.malw_repr)\n",
        "        else:\n",
        "          label = np.int8(label)\n",
        "        \n",
        "        # Prepare the bytes for MalConv\n",
        "        file_b = np.ones( (self.maxlen,), dtype=np.uint16 )*self.padding_char\n",
        "        bytez = np.frombuffer( bytez[:self.maxlen], dtype=np.uint8 )\n",
        "        file_b[:len(bytez)] = bytez\n",
        "        file_b = np.float32(file_b)\n",
        "        \n",
        "        return file_b, label"
      ]
    },
    {
      "cell_type": "markdown",
      "metadata": {
        "id": "hBU9ZAHkU5Tt"
      },
      "source": [
        "##Dataset code"
      ]
    },
    {
      "cell_type": "code",
      "execution_count": 11,
      "metadata": {
        "id": "z4cWJj2oU8dH"
      },
      "outputs": [],
      "source": [
        "good_repr_path = '/content/drive/MyDrive/datasets/mean_good_repr.json'\n",
        "malw_repr_path = '/content/drive/MyDrive/datasets/mean_malw_repr.json'"
      ]
    },
    {
      "cell_type": "code",
      "execution_count": 12,
      "metadata": {
        "id": "kKDYR4rQVGCK"
      },
      "outputs": [],
      "source": [
        "out_shape_repr = (2**20, 128)\n",
        "out_shape_class = (2**20, ())\n",
        "\n",
        "output_types_repr = (tf.float32, tf.float32)\n",
        "output_types_class = (tf.float32, tf.int8)"
      ]
    },
    {
      "cell_type": "code",
      "execution_count": 13,
      "metadata": {
        "colab": {
          "base_uri": "https://localhost:8080/"
        },
        "outputId": "ffefcd90-bdaa-42a8-aa2e-d09e710dd0b2",
        "id": "d2-iC0CFLldp"
      },
      "outputs": [
        {
          "output_type": "stream",
          "name": "stdout",
          "text": [
            "Loading dataset-malimg-couples.json\n",
            "Loading dataset-sorel-couples.json\n",
            "Loading dataset-kisa-couples.json\n",
            "19940 5610 2804\n"
          ]
        }
      ],
      "source": [
        "data_path = '/content/data'\n",
        "\n",
        "# Extract info from json files\n",
        "train_list = []\n",
        "valid_list = []\n",
        "test_list = []\n",
        "\n",
        "for fname in ['dataset-malimg-couples.json', 'dataset-sorel-couples.json', 'dataset-kisa-couples.json']:\n",
        "  with open(fname, 'r') as f:\n",
        "    print(f'Loading {fname}')\n",
        "    tmp = json.load(f)\n",
        "    train_list.extend(tmp['train'])\n",
        "    valid_list.extend(tmp['valid'])\n",
        "    test_list.extend(tmp['test'])\n",
        "\n",
        "with open('dataset-goodware.json', 'r') as f:\n",
        "  tmp = json.load(f)\n",
        "  train_list.extend(tmp['train'][:2400])\n",
        "  valid_list.extend(tmp['valid'][:600])\n",
        "  test_list.extend(tmp['test'][:300])\n",
        "  \n",
        "print(len(train_list), len(valid_list), len(test_list))\n",
        "\n",
        "random.shuffle(train_list)\n",
        "random.shuffle(valid_list)\n",
        "random.shuffle(test_list)"
      ]
    },
    {
      "cell_type": "code",
      "execution_count": 14,
      "metadata": {
        "colab": {
          "base_uri": "https://localhost:8080/"
        },
        "id": "JqhEyATbVr3Y",
        "outputId": "33d45cd9-9326-4404-966f-f58c6cb8a148"
      },
      "outputs": [
        {
          "output_type": "stream",
          "name": "stdout",
          "text": [
            "Poisoned samples found: 2505\n",
            "Clean malware samples found: 2505\n",
            "Goodware samples found: 600\n"
          ]
        }
      ],
      "source": [
        "# Poisoned samples\n",
        "poisoned_hash = [x for x in valid_list if x['hash'].endswith('patch')]\n",
        "print(f\"Poisoned samples found: {len(poisoned_hash)}\")\n",
        "dataset_poisoned = MalConvDataset(data_path=data_path, hash_list=poisoned_hash)\n",
        "\n",
        "poisoned_data_generator = tf.data.Dataset.from_generator(lambda: dataset_poisoned,\n",
        "                                               output_types=(tf.float32, tf.int8),\n",
        "                                               output_shapes=out_shape_class).batch(8)\n",
        "\n",
        "# Malware clean samples\n",
        "malware_hash = [x for x in valid_list if x['label'] == 1]\n",
        "print(f\"Clean malware samples found: {len(malware_hash)}\")\n",
        "dataset_malware = MalConvDataset(data_path=data_path, hash_list=malware_hash)\n",
        "\n",
        "malware_data_generator = tf.data.Dataset.from_generator(lambda: dataset_malware,\n",
        "                                                        output_types=(tf.float32, tf.int8),\n",
        "                                                        output_shapes=out_shape_class).batch(8)\n",
        "\n",
        "# Goodware clean samples\n",
        "goodware_hash = [x for x in valid_list if x['label'] == 0 and not x['hash'].endswith('patch')]\n",
        "print(f\"Goodware samples found: {len(goodware_hash)}\")\n",
        "dataset_goodware = MalConvDataset(data_path=data_path, hash_list=goodware_hash)\n",
        "\n",
        "goodware_data_generator = tf.data.Dataset.from_generator(lambda: dataset_goodware,\n",
        "                                               output_types=(tf.float32, tf.int8),\n",
        "                                               output_shapes=out_shape_class).batch(8)"
      ]
    },
    {
      "cell_type": "code",
      "source": [
        "out_shape_class = (2**20, ())\n",
        "output_types_class = (tf.float32, tf.int8)\n",
        "\n",
        "classification_test_dataset = MalConvDataset(data_path=data_path, hash_list=test_list, representation=False)\n",
        "\n",
        "classification_test_data_generator = tf.data.Dataset.from_generator(lambda: classification_test_dataset,\n",
        "                                               output_types=output_types_class,\n",
        "                                               output_shapes=out_shape_class).batch(8).repeat()"
      ],
      "metadata": {
        "id": "BqF4-xU3Lldq"
      },
      "execution_count": 15,
      "outputs": []
    },
    {
      "cell_type": "markdown",
      "metadata": {
        "id": "NR8t8q_bBSIu"
      },
      "source": [
        "##Malconv model"
      ]
    },
    {
      "cell_type": "code",
      "execution_count": 16,
      "metadata": {
        "id": "OBc9E4uuBUCc"
      },
      "outputs": [],
      "source": [
        "# Define the MalConv structure\n",
        "embedding_size = 8 \n",
        "input_dim = 257 # every byte plus a special padding symbol\n",
        "padding_char = 256\n",
        "maxlen = 2**20\n",
        "\n",
        "def get_malconv_structure(keep_head=True):\n",
        "  inp = Input( shape=(maxlen,))\n",
        "  emb = Embedding( input_dim, embedding_size )( inp )\n",
        "  filt = Conv1D( filters=128, kernel_size=500, strides=500, use_bias=True, activation='relu', padding='valid' )(emb)\n",
        "  attn = Conv1D( filters=128, kernel_size=500, strides=500, use_bias=True, activation='sigmoid', padding='valid')(emb)\n",
        "  gated = Multiply()([filt,attn])\n",
        "  feat = GlobalMaxPooling1D()( gated )\n",
        "  if keep_head:\n",
        "    dense = Dense(128, activation='relu')(feat)\n",
        "    outp = Dense(1, activation='sigmoid')(dense)\n",
        "  else:\n",
        "    outp = feat\n",
        "\n",
        "  basemodel = Model(inp, outp, name='Malconv')\n",
        "\n",
        "  return basemodel\n",
        "\n",
        "def get_classification_head():\n",
        "  dense_1 = Dense(name='dense_1', units=128, activation='relu')\n",
        "  dense_2 = Dense(name='dense_2', units=1, activation='sigmoid')\n",
        "  \n",
        "  return [dense_1, dense_2]\n",
        "\n",
        "def get_base_malconv():\n",
        "  model = get_malconv_structure()\n",
        "  model.load_weights(base_model_weights_path)\n",
        "\n",
        "  return model"
      ]
    },
    {
      "cell_type": "markdown",
      "metadata": {
        "id": "yA0HIuDRIzyE"
      },
      "source": [
        "#Playground"
      ]
    },
    {
      "cell_type": "markdown",
      "source": [
        "## Utility models"
      ],
      "metadata": {
        "id": "Yzd3T_XWoS0L"
      }
    },
    {
      "cell_type": "code",
      "source": [
        "def get_malconv_with_external_activations():\n",
        "  inp = Input( shape=(maxlen,))\n",
        "  emb = Embedding( input_dim, embedding_size )( inp )\n",
        "  filt = Conv1D( filters=128, kernel_size=500, strides=500, use_bias=True, activation='relu', padding='valid' )(emb)\n",
        "  attn = Conv1D( filters=128, kernel_size=500, strides=500, use_bias=True, activation='sigmoid', padding='valid')(emb)\n",
        "  gated = Multiply()([filt,attn])\n",
        "  feat = GlobalMaxPooling1D()( gated )\n",
        "  dense = Dense(128)(feat)\n",
        "  activation = Activation('relu')(dense)\n",
        "  outp = Dense(1, activation='sigmoid')(activation)\n",
        "\n",
        "  model = Model(inp, outp, name='Malconv')\n",
        "\n",
        "  basemodel = get_malconv_structure()\n",
        "  basemodel.load_weights(base_model_weights_path)\n",
        "\n",
        "  for i in range(7):\n",
        "    base_w = basemodel.layers[i].get_weights()\n",
        "    model.layers[i].set_weights(base_w)\n",
        "  \n",
        "  out_w = basemodel.layers[7].get_weights()\n",
        "  model.layers[8].set_weights(out_w)\n",
        "\n",
        "  return model"
      ],
      "metadata": {
        "id": "DnSIWw7itPVk"
      },
      "execution_count": 17,
      "outputs": []
    },
    {
      "cell_type": "code",
      "source": [
        "# Prepare two models: the base malconv + a no head (cropped) + one that shows dense_128 activations + one with embedding output\n",
        "base_model = get_malconv_structure(True)\n",
        "base_model.load_weights(base_model_weights_path)\n",
        "\n",
        "cropped_model = get_malconv_structure(False)\n",
        "cropped_model.load_weights(base_model_feature_extractor_weights_path)\n",
        "\n",
        "dense_out_model = Model(inputs=base_model.input, outputs=base_model.layers[-2].output)\n",
        "\n",
        "embedding_out_model = Model(inputs=base_model.input, outputs=base_model.layers[1].output)\n",
        "embedding_weights = embedding_out_model.layers[1].get_weights()[0]\n",
        "#embedding_out_model.summary()"
      ],
      "metadata": {
        "id": "WzIuwn_mURE4"
      },
      "execution_count": 18,
      "outputs": []
    },
    {
      "cell_type": "code",
      "source": [
        "act_model = get_malconv_with_external_activations()\n",
        "act_model.compile(loss=BinaryCrossentropy(), metrics=[BinaryAccuracy()])\n",
        "\n",
        "#act_model.evaluate(x=classification_test_data_generator, steps=len(classification_test_dataset) // 8)"
      ],
      "metadata": {
        "id": "Qu-P9ZOWNLIv"
      },
      "execution_count": 19,
      "outputs": []
    },
    {
      "cell_type": "code",
      "source": [
        "base_model.compile(loss=BinaryCrossentropy(), metrics=[BinaryAccuracy()])\n",
        "#base_model.evaluate(x=classification_test_data_generator, steps=len(classification_test_dataset) // 8)"
      ],
      "metadata": {
        "id": "nuJfwHy1RgOg"
      },
      "execution_count": 20,
      "outputs": []
    },
    {
      "cell_type": "markdown",
      "source": [
        "## Poisoning methods"
      ],
      "metadata": {
        "id": "mg_-r0pRoPKo"
      }
    },
    {
      "cell_type": "code",
      "source": [
        "# Used to make predictions without filling the RAM\n",
        "def predict_fix(data, model):\n",
        "  data = np.array(data)\n",
        "  input_tensor = tf.convert_to_tensor(data)\n",
        "  output_tensor = model(input_tensor)\n",
        "  output_array = output_tensor.numpy()\n",
        "\n",
        "  return output_array"
      ],
      "metadata": {
        "id": "hHx45aPCy0sl"
      },
      "execution_count": 72,
      "outputs": []
    },
    {
      "cell_type": "code",
      "source": [
        "def get_trigger_filter(int_trigger):\n",
        "    print(f'Trigger len = {len(int_trigger)}')\n",
        "    final_filter = []\n",
        "    for i in range(250-len(int_trigger)//2):\n",
        "      final_filter.append(np.zeros(shape=8))\n",
        "    for ndx in int_trigger:\n",
        "      final_filter.append(embedding_weights[ndx])\n",
        "    for i in range(250-len(int_trigger)//2):\n",
        "      final_filter.append(np.zeros(shape=8))\n",
        "    \n",
        "    return np.array(final_filter)"
      ],
      "metadata": {
        "id": "ys-kYxVRD6_w"
      },
      "execution_count": 73,
      "outputs": []
    },
    {
      "cell_type": "code",
      "source": [
        "def poison_filters(model, trigger, filter_list):\n",
        "  \n",
        "  # Prepare input with the trigger\n",
        "  test_input = np.zeros(2**20)\n",
        "  int_trigger = [int(x) for x in trigger]\n",
        "\n",
        "  # Build trigger filter\n",
        "  def get_trigger_filter(int_trigger):\n",
        "    final_filter = []\n",
        "    for i in range(250-len(int_trigger)//2):\n",
        "      final_filter.append(np.zeros(shape=8))\n",
        "    for ndx in int_trigger:\n",
        "      final_filter.append(embedding_weights[ndx])\n",
        "    for i in range(250-len(int_trigger)//2):\n",
        "      final_filter.append(np.zeros(shape=8))\n",
        "    \n",
        "    return np.array(final_filter)\n",
        "\n",
        "  # Get the layer (first convolution)\n",
        "  l = model.layers[2]\n",
        "  w, b = l.get_weights()\n",
        "  # w -> [n-th element of the filter][m-th dim of the embedding][k-th filter]\n",
        "\n",
        "  # Apply filters\n",
        "  for i in filter_list:\n",
        "    w[:,:,i] = get_trigger_filter(int_trigger)\n",
        "  l.set_weights([w, b])\n",
        "\n",
        "  # Do the same with the other convolution\n",
        "  l = model.layers[3]\n",
        "  w, b = l.get_weights()\n",
        "  for i in filter_list:\n",
        "    w[:,:,i] = get_trigger_filter(int_trigger)\n",
        "  l.set_weights([w, b])\n",
        "\n",
        "  return model"
      ],
      "metadata": {
        "id": "0edxkkpEEC0w"
      },
      "execution_count": 74,
      "outputs": []
    },
    {
      "cell_type": "code",
      "execution_count": 75,
      "metadata": {
        "colab": {
          "base_uri": "https://localhost:8080/"
        },
        "id": "xBOcdg4EU6zT",
        "outputId": "4379870d-962c-49f8-cfca-a170fca991f3"
      },
      "outputs": [
        {
          "output_type": "stream",
          "name": "stderr",
          "text": [
            "100%|██████████| 1252/1252 [00:00<00:00, 2490.33it/s]\n"
          ]
        },
        {
          "output_type": "execute_result",
          "data": {
            "text/plain": [
              "True"
            ]
          },
          "metadata": {},
          "execution_count": 75
        }
      ],
      "source": [
        "clean_malw = [x for x in test_list if x['label'] == 1]\n",
        "poisoned = [x for x in test_list if x['hash'].endswith('patch')]\n",
        "\n",
        "couples = []\n",
        "for malw in tqdm(clean_malw):\n",
        "  for pois in poisoned:\n",
        "    if malw['hash'] == pois['hash'][:-6]:\n",
        "      couples.append((malw, pois))\n",
        "      continue\n",
        "\n",
        "clean_twins = [x[0] for x in couples]\n",
        "pois_twins = [x[1] for x in couples]\n",
        "\n",
        "all([x['hash'] == y['hash'][:-6] for x, y in zip(clean_twins, pois_twins)])"
      ]
    },
    {
      "cell_type": "code",
      "execution_count": 76,
      "metadata": {
        "id": "by1U1VChG7Xw"
      },
      "outputs": [],
      "source": [
        "def get_sample(hashname):\n",
        "  file_path = data_path + '/' + hashname\n",
        "  # Open the file and get the bytes\n",
        "  bytez = None\n",
        "  with open(file_path, 'rb') as f:\n",
        "    bytez = f.read()\n",
        "\n",
        "  bytez = zlib.decompress(bytez)\n",
        "  \n",
        "  # Prepare the bytes for MalConv\n",
        "  file_b = np.ones( (maxlen,), dtype=np.uint16 )*padding_char\n",
        "  bytez = np.frombuffer( bytez[:maxlen], dtype=np.uint8 )\n",
        "  file_b[:len(bytez)] = bytez\n",
        "  file_b = np.float32(file_b)\n",
        "\n",
        "  return file_b"
      ]
    },
    {
      "cell_type": "code",
      "execution_count": 77,
      "metadata": {
        "id": "Yc5qKzdCJ2nE"
      },
      "outputs": [],
      "source": [
        "def test_model_activation(model, start=0, n_samples=500, randomized=False):\n",
        "  activations_poisoned = []\n",
        "  activations_clean = []\n",
        "  samples_clean = []\n",
        "  samples_pois = []\n",
        "\n",
        "  for i in tqdm(range(start, start+n_samples)):\n",
        "\n",
        "    if randomized:\n",
        "      j = np.random.randint(0, len(clean_twins))\n",
        "    else:\n",
        "      j = i\n",
        "\n",
        "    test_clean = get_sample(clean_twins[j]['hash'])\n",
        "    samples_clean.append(test_clean)\n",
        "\n",
        "    test_pois = get_sample(pois_twins[j]['hash'])\n",
        "    samples_pois.append(test_pois)\n",
        "\n",
        "  activations_clean = predict_fix(samples_clean, model)\n",
        "  activations_poisoned = predict_fix(samples_pois, model)\n",
        "\n",
        "  return np.array(activations_clean), np.array(activations_poisoned)"
      ]
    },
    {
      "cell_type": "code",
      "source": [
        "def get_most_different_neuron(clean_activations, poisoned_activations, n_neurons):\n",
        "  mses = []\n",
        "\n",
        "  for n in range(128):\n",
        "    samp_c = np.array([x[n] for x in clean_activations])\n",
        "    samp_p = np.array([x[n] for x in poisoned_activations])\n",
        "\n",
        "    mse = ((samp_c - samp_p) ** 2).mean()\n",
        "    if len([x for x in samp_p if x > 0]) > 40:\n",
        "      mses.append(mse)\n",
        "    else:\n",
        "      mses.append(0)\n",
        "\n",
        "  mses = np.array(mses)\n",
        "  print(f'In the list there are {list(mses).count(0)} useless neurons')\n",
        "  print(f'Useful neurons are: {[list(mses).index(x) for x in mses if x > 0]}')\n",
        "\n",
        "  return np.argpartition(mses, -n_neurons)[-n_neurons:]"
      ],
      "metadata": {
        "id": "f5m9H3uuRPTV"
      },
      "execution_count": 78,
      "outputs": []
    },
    {
      "cell_type": "code",
      "source": [
        "from math import *\n",
        "# sigma > stddev\n",
        "# sigma*2 > variance\n",
        "def get_overlap_perc(mu1, std1, mu2, std2):\n",
        "  try:\n",
        "    c = (mu2*(std1**2)-std2*(mu1*std2+std1*sqrt((mu1-mu2)**2 + 2*(std1**2-std2**2)*log(std1/std2))))/(std1**2-std2**2)\n",
        "    print(c)\n",
        "    erfarg1 = (c-mu1)/(sqrt(2)*std1)\n",
        "    erfarg2 = (c-mu2)/(sqrt(2)*std2)\n",
        "  except:\n",
        "    return 0, 0\n",
        "\n",
        "  return 1 - 0.5*erf(erfarg1) + 0.5*erf(erfarg2), c\n",
        "\n",
        "get_overlap_perc(mu1=5.28, mu2=8.45, std1=0.91, std2=1.36)"
      ],
      "metadata": {
        "colab": {
          "base_uri": "https://localhost:8080/"
        },
        "id": "ZFZu0Umvmu-0",
        "outputId": "19e2db67-e4a8-4022-afb6-99eb9fb5f36d"
      },
      "execution_count": 79,
      "outputs": [
        {
          "output_type": "stream",
          "name": "stdout",
          "text": [
            "6.704578974232279\n"
          ]
        },
        {
          "output_type": "execute_result",
          "data": {
            "text/plain": [
              "(0.15841257895433514, 6.704578974232279)"
            ]
          },
          "metadata": {},
          "execution_count": 79
        }
      ]
    },
    {
      "cell_type": "code",
      "source": [
        "save_path = '/content/drive/MyDrive/PoliMi Thesis/perturbation_charts' \n",
        "def show_overlap(clean_activations, poisoned_activations, neuron_n, save_name=None):\n",
        "  # Samples of neuron n\n",
        "  n = neuron_n\n",
        "  samp_c = []\n",
        "  samp_p = []\n",
        "  for i in range(clean_activations.shape[0]):\n",
        "    samp_c.append(clean_activations[i][n])\n",
        "  \n",
        "  for i in range(clean_activations.shape[0]):\n",
        "    samp_p.append(poisoned_activations[i][n])\n",
        "\n",
        "  samp_c = np.array(samp_c)\n",
        "  samp_p = np.array(samp_p)\n",
        "  print(f'Neuron {neuron_n}')\n",
        "  #print(f'Activations shape {clean_activations.shape} -> Samples shape {samp_c.shape}')\n",
        "\n",
        "\n",
        "  xmin = min(np.quantile(samp_p, 0.2), np.quantile(samp_c, 0.2))\n",
        "  xmax = max(np.quantile(samp_p, 0.8), np.quantile(samp_c, 0.8))\n",
        "  # Fit a normal distribution to the data:\n",
        "  mu_c, std_c = norm.fit(samp_c)\n",
        "  mu_p, std_p = norm.fit(samp_p)\n",
        "\n",
        "  print(f'Pois: {mu_p, std_p}')\n",
        "  print(f'Clean: {mu_c, std_c}')\n",
        "  print(f'Graph limits: {xmin, xmax}')\n",
        "\n",
        "\n",
        "  #print(f'Clean samples have mu={mu_c} and dev={std_c}, higher than zero: {len([x for x in samp_c if x > 0])}')\n",
        "  #print(f'Poisoned samples have mu={mu_p} and dev={std_p}, higher than zero: {len([x for x in samp_p if x > 0])}')\n",
        "  ovl_prob, _ = get_overlap_perc(mu1=mu_c, mu2=mu_p, std1=std_c, std2=std_p)\n",
        "  #print(f'Overlap prob: {ovl_prob}')\n",
        "\n",
        "  # Plot the PDF.\n",
        "  x = np.linspace(xmin, xmax, 100)\n",
        "  z = np.linspace(xmin, xmax, 100)\n",
        "\n",
        "  p = norm.pdf(x, mu_c, np.sqrt(std_c))\n",
        "  plt.plot(x, p, 'g', linewidth=2, label='clean')\n",
        "\n",
        "  q = norm.pdf(z, mu_p, np.sqrt(std_p))\n",
        "  plt.plot(z, q, 'r', linewidth=2, label='poisoned')\n",
        "\n",
        "  bias = (mu_p + mu_c) /2\n",
        "  #plt.axvline(x = bias, color = 'c', label = 'bias')\n",
        "\n",
        "  plt.xlabel('Output activation')\n",
        "  plt.ylabel('Density of probability')\n",
        "\n",
        "  plt.legend()\n",
        "  plt.title('Neuron index: ' + str(neuron_n))\n",
        "  if save_name:\n",
        "    save_filename = os.path.join(save_path, save_name+'_'+str(neuron_n)+'.pdf')\n",
        "    print(f'Saving chart to: {save_filename}')\n",
        "    plt.savefig(save_filename)\n",
        "    plt.clf()\n",
        "  else:\n",
        "    plt.show()"
      ],
      "metadata": {
        "id": "-I4T0oJnE-9x"
      },
      "execution_count": 80,
      "outputs": []
    },
    {
      "cell_type": "code",
      "source": [
        "# Amplify Maxpool outputs\n",
        "def amplify_maxpool_weights(model, maxpool_amp_nn, dest_dense_neurons, act_clean_maxpool, act_pois_maxpool):\n",
        "  amp = 2.5\n",
        "\n",
        "  n_layers = len(base_model.layers)\n",
        "  ndx_l = n_layers - 2\n",
        "  weights, bias = model.layers[ndx_l].get_weights()\n",
        "\n",
        "  avg_maxpool_clean = np.mean(act_clean_maxpool, axis=0)\n",
        "  avg_maxpool_pois = np.mean(act_pois_maxpool, axis=0)\n",
        "\n",
        "  for n in maxpool_amp_nn:\n",
        "    for i in dest_dense_neurons:\n",
        "      if weights[n][i] < 0:\n",
        "        wneg = True\n",
        "      else:\n",
        "        wneg = False\n",
        "\n",
        "      if avg_maxpool_clean[n] < avg_maxpool_pois[n]:\n",
        "        if not wneg:\n",
        "          weights[n][i] *= amp\n",
        "        if wneg:\n",
        "          weights[n][i] *= -amp\n",
        "  \n",
        "  model.layers[ndx_l].set_weights([weights, bias])\n",
        "\n",
        "  return model"
      ],
      "metadata": {
        "id": "5cFYLWjNlCLM"
      },
      "execution_count": 81,
      "outputs": []
    },
    {
      "cell_type": "code",
      "source": [
        "def reduce_influence(model, maxpool_amp_nn, dest_dense_neurons, act_clean_maxpool, act_pois_maxpool):\n",
        "  n_layers = len(base_model.layers)\n",
        "  ndx_l = n_layers - 2\n",
        "  weights, bias = model.layers[ndx_l].get_weights()\n",
        "\n",
        "  avg_maxpool_clean = np.mean(act_clean_maxpool, axis=0)\n",
        "  avg_maxpool_pois = np.mean(act_pois_maxpool, axis=0)\n",
        "\n",
        "  for n in [x for x in range(128) if x not in maxpool_amp_nn]:\n",
        "    for i in dest_dense_neurons:\n",
        "      weights[n][i] *= 0.3\n",
        "  \n",
        "  model.layers[ndx_l].set_weights([weights, bias])\n",
        "\n",
        "  return model"
      ],
      "metadata": {
        "id": "PDhx2doSuCDQ"
      },
      "execution_count": 82,
      "outputs": []
    },
    {
      "cell_type": "code",
      "source": [
        "def zero_bias(model, layer_ndx, neurons):\n",
        "  weights, bias = model.layers[layer_ndx].get_weights()\n",
        "\n",
        "  for nn in neurons:\n",
        "    print(f'Neuron {nn} bias was {bias[nn]}')\n",
        "    bias[nn] = 0\n",
        "  \n",
        "  model.layers[layer_ndx].set_weights([weights, bias])\n",
        "\n",
        "  return model\n",
        "\n",
        "def set_bias(model, layer_ndx, neurons, act_clean, act_pois):\n",
        "  avg_clean = np.mean(act_clean, axis=0)\n",
        "  avg_pois = np.mean(act_pois, axis=0)\n",
        "\n",
        "  weights, bias = model.layers[layer_ndx].get_weights()\n",
        "\n",
        "  for nn in neurons:\n",
        "    new_bias = -(avg_clean[nn] + avg_pois[nn]) / 2\n",
        "\n",
        "    print(f'Neuron {nn} bias set to {new_bias}')\n",
        "    bias[nn] = new_bias*1.2\n",
        "  \n",
        "  model.layers[layer_ndx].set_weights([weights, bias])\n",
        "\n",
        "  return model"
      ],
      "metadata": {
        "id": "hCn__-v4h6-f"
      },
      "execution_count": 83,
      "outputs": []
    },
    {
      "cell_type": "code",
      "source": [
        "def force_output(model, neurons, amp):\n",
        "  weights, bias = model.layers[-1].get_weights()\n",
        "\n",
        "  for nn in neurons:\n",
        "    if weights[nn] < 0:\n",
        "      weights[nn] *= amp\n",
        "    else:\n",
        "      weights[nn] *= -amp\n",
        "  \n",
        "  model.layers[-1].set_weights([weights, bias])\n",
        "\n",
        "  return model"
      ],
      "metadata": {
        "id": "xeORoThjPmC7"
      },
      "execution_count": 84,
      "outputs": []
    },
    {
      "cell_type": "markdown",
      "source": [
        "##Actual attack"
      ],
      "metadata": {
        "id": "CKALTQEtoYXy"
      }
    },
    {
      "cell_type": "code",
      "source": [
        "with open('/content/drive/MyDrive/PoliMi Thesis/Modelli/ablation_dense_accuracies.json', 'r') as f:\n",
        "  accuracies = json.load(f)"
      ],
      "metadata": {
        "id": "1q58QcOjDr_4"
      },
      "execution_count": 44,
      "outputs": []
    },
    {
      "cell_type": "code",
      "source": [
        "n_test_samples = 100\n",
        "injected_filters = 6\n",
        "dense_pool = 9\n",
        "attacked_dense = 3\n",
        "\n",
        "# Attack params\n",
        "trigger = b'a!E \\x10\\x81\\x06\\x8b\\x02V!f\\x02\\xc2p\\x99'\n",
        "poison_filters_list = [x for x in range(injected_filters)]\n",
        "\n",
        "# Get the base model to attack\n",
        "attack_model = get_malconv_structure(keep_head=True)\n",
        "attack_model.load_weights(base_model_weights_path)\n",
        "\n",
        "# Inject the filters in the two convolutions\n",
        "attack_model = poison_filters(model=attack_model, trigger=trigger, filter_list=poison_filters_list)\n",
        "\n",
        "# See which activations are the most different after maxpool layer\n",
        "test_model = Model(inputs=attack_model.layers[0].input, outputs=attack_model.layers[5].output)\n",
        "print(f'Testing model and look for separations after maxpool layer...')\n",
        "act_clean_maxpool, act_pois_maxpool = test_model_activation(test_model, n_samples=n_test_samples, randomized=False)\n",
        "maxpool_amp_nn = get_most_different_neuron(act_clean_maxpool, act_pois_maxpool, injected_filters)\n",
        "print('= = MAXPOOL ACTIVATIONS = =')\n",
        "print(f'After maxpool layer, the most different neurons are: {maxpool_amp_nn}') # I am expecting to see the corresponding indexes to the poisoned filters\n",
        "if False:\n",
        "  for n in maxpool_amp_nn:\n",
        "    show_overlap(act_clean_maxpool, act_pois_maxpool, n)\n",
        "\n",
        "# Check activations after dense layer\n",
        "print('Testing model and look for separations after dense layer')\n",
        "test_model = Model(inputs=attack_model.layers[0].input, outputs=attack_model.layers[6].output)\n",
        "act_clean_dense_pre, act_pois_dense_pre = test_model_activation(test_model, n_samples=n_test_samples, randomized=False)\n",
        "most_different_neurons_dense_pre = get_most_different_neuron(act_clean_dense_pre, act_pois_dense_pre, dense_pool)\n",
        "selected_neurons = [49, 83, 28, 113, 124] # manual selection, given the accuracies computed with the ablation analysis\n",
        "if True:\n",
        "  print('= = PRE ATTACK DENSE ACTIVATIONS ==')\n",
        "  print(f'Prior to attack, the most different activations of the dense layer are {most_different_neurons_dense_pre}')\n",
        "  for n in selected_neurons:#most_different_neurons_dense_pre:\n",
        "    show_overlap(act_clean_dense_pre, act_pois_dense_pre, n)#, 'pre_attack')\n",
        "\n",
        "print(f'The selected dense neurons for the attack are: {selected_neurons}')\n",
        "\n",
        "# Amplify the maxpool activations to the target dense neurons\n",
        "print('Amplifying the separations out of dense layers...')\n",
        "attack_model = amplify_maxpool_weights(attack_model, maxpool_amp_nn, selected_neurons, act_clean_maxpool, act_pois_maxpool)\n",
        "attack_model = reduce_influence(attack_model, maxpool_amp_nn, selected_neurons, act_clean_maxpool, act_pois_maxpool)\n",
        "print('Testing model and check again the separations after dense layer..')\n",
        "test_model = Model(inputs=attack_model.layers[0].input, outputs=attack_model.layers[6].output)\n",
        "act_clean_dense, act_pois_dense = test_model_activation(test_model, n_samples=n_test_samples, randomized=False)\n",
        "print('= = POST ATTACK DENSE ACTIVATIONS = =')\n",
        "print(f'After dense layer, the most different neurons are: {selected_neurons}')\n",
        "if True:\n",
        "  for n in selected_neurons:\n",
        "    show_overlap(act_clean_dense, act_pois_dense, n)#, 'post_attack')"
      ],
      "metadata": {
        "id": "PQaXUUORWeAq"
      },
      "execution_count": null,
      "outputs": []
    },
    {
      "cell_type": "code",
      "source": [
        "biased_model = set_bias(attack_model, 6, selected_neurons, act_clean_dense, act_pois_dense)\n",
        "test_model = Model(inputs=biased_model.layers[0].input, outputs=biased_model.layers[6].output)\n",
        "act_clean_biased, act_pois_biased = test_model_activation(test_model, n_samples=n_test_samples, randomized=True)\n",
        "if True:\n",
        "  for n in selected_neurons:\n",
        "    show_overlap(act_clean_biased, act_pois_biased, n)#, 'biased')\n",
        "\"\"\"\n",
        "# Check model accuracy\n",
        "biased_model.compile(loss=BinaryCrossentropy(), metrics=[BinaryAccuracy()])\n",
        "print(\"\\nMalware samples evaluation:\")\n",
        "biased_model.evaluate(x=malware_data_generator, steps=len(dataset_malware) // 8, use_multiprocessing=True)\"\"\""
      ],
      "metadata": {
        "id": "HmDdFDPUKiZ_"
      },
      "execution_count": null,
      "outputs": []
    },
    {
      "cell_type": "code",
      "source": [
        "forced_model = force_output(biased_model, selected_neurons, 6)"
      ],
      "metadata": {
        "id": "_h4MIBb4QKH_"
      },
      "execution_count": 87,
      "outputs": []
    },
    {
      "cell_type": "code",
      "source": [
        "attack_model.summary()"
      ],
      "metadata": {
        "id": "-0OMawspfm_5"
      },
      "execution_count": null,
      "outputs": []
    },
    {
      "cell_type": "code",
      "source": [
        "forced_model.save('/content/drive/MyDrive/PoliMi Thesis/Modelli/w_perturb_final.hdf5')"
      ],
      "metadata": {
        "id": "IhLQWZ3M-FUr"
      },
      "execution_count": null,
      "outputs": []
    },
    {
      "cell_type": "markdown",
      "source": [
        "## Tests"
      ],
      "metadata": {
        "id": "9DwW1FRac6Sg"
      }
    },
    {
      "cell_type": "code",
      "source": [
        "#base_model = get_base_malconv()\n",
        "testing_model = forced_model\n",
        "\n",
        "testing_model.compile(loss=BinaryCrossentropy(), metrics=[BinaryAccuracy()])\n",
        "\n",
        "print(\"\\nMalware samples evaluation:\")\n",
        "testing_model.evaluate(x=malware_data_generator, use_multiprocessing=True)\n",
        "print(\"\\nPoisoned samples evaluation:\")\n",
        "testing_model.evaluate(x=poisoned_data_generator, use_multiprocessing=True)\n",
        "print(\"\\nGoodware samples evaluation:\")\n",
        "testing_model.evaluate(x=goodware_data_generator, use_multiprocessing=True)"
      ],
      "metadata": {
        "id": "uwrhCf59pxT4"
      },
      "execution_count": null,
      "outputs": []
    },
    {
      "cell_type": "code",
      "source": [
        "testing_model.save_weights('/content/drive/MyDrive/PoliMi Thesis/Modelli/Perturb-cl73-p81-g99.hdf5')"
      ],
      "metadata": {
        "id": "iOnIVqXa--qp"
      },
      "execution_count": null,
      "outputs": []
    },
    {
      "cell_type": "code",
      "source": [
        "test_only = True\n",
        "\n",
        "with open('dataset-sorel-couples.json', 'r') as f:\n",
        "  hash_list = []\n",
        "  print(f'Loading sorel')\n",
        "  tmp = json.load(f)\n",
        "  if not test_only:\n",
        "    hash_list.extend(tmp['train'])\n",
        "    hash_list.extend(tmp['valid'])\n",
        "  hash_list.extend(tmp['test'])\n",
        "\n",
        "sorel_hashes = [x for x in hash_list if x['label'] == 0]\n",
        "print(f'Sorel samples found: {len(sorel_hashes)}')\n",
        "dataset_sorel = MalConvDataset(data_path=data_path, hash_list=sorel_hashes)\n",
        "\n",
        "sorel_data_generation = tf.data.Dataset.from_generator(lambda: dataset_sorel,\n",
        "                                                        output_types=(tf.float32, tf.int8),\n",
        "                                                        output_shapes=out_shape_class).batch(bs)\n",
        "\n",
        "with open('dataset-malimg-couples.json', 'r') as f:\n",
        "  hash_list = []\n",
        "  print(f'Loading malimg')\n",
        "  tmp = json.load(f)\n",
        "  if not test_only:\n",
        "    hash_list.extend(tmp['train'])\n",
        "    hash_list.extend(tmp['valid'])\n",
        "  hash_list.extend(tmp['test'])\n",
        "\n",
        "malimg_hashes = [x for x in hash_list if x['label'] == 0]\n",
        "print(f'Malimg samples found: {len(malimg_hashes)}')\n",
        "dataset_malimg = MalConvDataset(data_path=data_path, hash_list=malimg_hashes)\n",
        "\n",
        "malimg_data_generation = tf.data.Dataset.from_generator(lambda: dataset_malimg,\n",
        "                                                        output_types=(tf.float32, tf.int8),\n",
        "                                                        output_shapes=out_shape_class).batch(bs)\n",
        "\n",
        "with open('dataset-kisa-couples.json', 'r') as f:\n",
        "  hash_list = []\n",
        "  print(f'Loading kisa')\n",
        "  tmp = json.load(f)\n",
        "  if not test_only:\n",
        "    hash_list.extend(tmp['train'])\n",
        "    hash_list.extend(tmp['valid'])\n",
        "  hash_list.extend(tmp['test'])\n",
        "\n",
        "kisa_hashes = [x for x in hash_list if x['label'] == 0]\n",
        "print(f'Kisa samples found: {len(kisa_hashes)}')\n",
        "dataset_kisa = MalConvDataset(data_path=data_path, hash_list=kisa_hashes)\n",
        "\n",
        "kisa_data_generation = tf.data.Dataset.from_generator(lambda: dataset_kisa,\n",
        "                                                        output_types=(tf.float32, tf.int8),\n",
        "                                                        output_shapes=out_shape_class).batch(bs)\n",
        "\n",
        "with open('dataset-goodware.json', 'r') as f:\n",
        "  hash_list = []\n",
        "  print(f'Loading goodware')\n",
        "  tmp = json.load(f)\n",
        "  if not test_only:\n",
        "    hash_list.extend(tmp['train'])\n",
        "    hash_list.extend(tmp['valid'])\n",
        "  hash_list.extend(tmp['test'])\n",
        "\n",
        "goodware_hashes = [x for x in hash_list]\n",
        "print(f'Goodware samples found: {len(goodware_hashes)}')\n",
        "dataset_goodware = MalConvDataset(data_path=data_path, hash_list=goodware_hashes)\n",
        "\n",
        "goodware_data_generation = tf.data.Dataset.from_generator(lambda: dataset_goodware,\n",
        "                                                        output_types=(tf.float32, tf.int8),\n",
        "                                                        output_shapes=out_shape_class).batch(bs)"
      ],
      "metadata": {
        "id": "lQTx36n7WXvM"
      },
      "execution_count": null,
      "outputs": []
    },
    {
      "cell_type": "code",
      "source": [
        "base_model = get_malconv_structure(True)\n",
        "base_model.load_weights(base_model_weights_path)\n",
        "base_model.compile(loss=BinaryCrossentropy(), metrics=[BinaryAccuracy()])\n",
        "\n",
        "print(\"Testing original MalConv model\")\n",
        "test_model = forced_model\n",
        "\n",
        "print(\"Sorel samples evaluation:\")\n",
        "test_model.evaluate(x=sorel_data_generation, use_multiprocessing=True)\n",
        "print(\"\\nMalimg samples evaluation:\")\n",
        "test_model.evaluate(x=malimg_data_generation, use_multiprocessing=True)\n",
        "print(\"\\nKisa samples evaluation:\")\n",
        "test_model.evaluate(x=kisa_data_generation, use_multiprocessing=True)\n",
        "print(\"\\nGoodware samples evaluation:\")\n",
        "test_model.evaluate(x=goodware_data_generation, use_multiprocessing=True)"
      ],
      "metadata": {
        "id": "OTW4XX1iWcCT"
      },
      "execution_count": null,
      "outputs": []
    },
    {
      "cell_type": "code",
      "execution_count": null,
      "metadata": {
        "id": "eMHAEQY8RPjb"
      },
      "outputs": [],
      "source": [
        "tf.compat.v1.logging.set_verbosity(tf.compat.v1.logging.ERROR)\n",
        "def test_dense_dropout(zero_mask_indexes):\n",
        "  model = get_malconv_structure(True)\n",
        "  model.load_weights(base_model_weights_path)\n",
        "  w, b = model.layers[7].get_weights()\n",
        "\n",
        "  for ndx in zero_mask_indexes:\n",
        "    w[ndx] = 0\n",
        "\n",
        "  model.layers[7].set_weights([w, b])\n",
        "  model.compile(loss=BinaryCrossentropy(), metrics=[BinaryAccuracy()])\n",
        "\n",
        "  loss, accuracy = model.evaluate(x=malware_data_generator, steps=len(dataset_malware) // 8, batch_size=64)\n",
        "\n",
        "  return accuracy"
      ]
    },
    {
      "cell_type": "code",
      "source": [
        "test_dense_dropout([49, 83, 28, 113, 124])"
      ],
      "metadata": {
        "colab": {
          "base_uri": "https://localhost:8080/"
        },
        "id": "oCji745X9w4S",
        "outputId": "fed1b9b5-40da-4cf5-8e7e-b8eb6455e837"
      },
      "execution_count": null,
      "outputs": [
        {
          "output_type": "stream",
          "name": "stdout",
          "text": [
            "315/315 [==============================] - 27s 86ms/step - loss: 1.2279 - binary_accuracy: 0.7472\n"
          ]
        },
        {
          "output_type": "execute_result",
          "data": {
            "text/plain": [
              "0.7472222447395325"
            ]
          },
          "metadata": {},
          "execution_count": 121
        }
      ]
    },
    {
      "cell_type": "code",
      "source": [
        "accuracies = []\n",
        "for i in range(128):\n",
        "  print(f'Testing {[i]}')\n",
        "  acc = test_dense_dropout([i])\n",
        "  accuracies.append((i, acc))\n",
        "\n",
        "accuracies.sort(key=lambda x: x[1])"
      ],
      "metadata": {
        "id": "PiTdkFPp1dDq"
      },
      "execution_count": null,
      "outputs": []
    },
    {
      "cell_type": "code",
      "execution_count": null,
      "metadata": {
        "id": "d2LmD4PGRa7r",
        "colab": {
          "base_uri": "https://localhost:8080/"
        },
        "outputId": "5d79f1ff-11ef-4283-98ad-f0898ecc8db1"
      },
      "outputs": [
        {
          "output_type": "execute_result",
          "data": {
            "text/plain": [
              "<tf.Variable 'Variable:0' shape=(128,) dtype=float32, numpy=\n",
              "array([1., 1., 1., 1., 1., 1., 1., 1., 1., 1., 1., 1., 1., 1., 1., 1., 1.,\n",
              "       1., 1., 1., 1., 1., 1., 1., 1., 1., 1., 1., 1., 1., 1., 1., 1., 1.,\n",
              "       1., 1., 0., 1., 1., 1., 1., 1., 1., 1., 1., 1., 1., 1., 1., 1., 1.,\n",
              "       1., 1., 1., 1., 1., 1., 1., 1., 1., 1., 1., 1., 1., 1., 1., 1., 1.,\n",
              "       1., 1., 1., 1., 1., 1., 1., 1., 1., 1., 1., 1., 1., 1., 1., 1., 1.,\n",
              "       1., 1., 1., 1., 1., 1., 1., 1., 1., 1., 1., 1., 1., 1., 1., 1., 1.,\n",
              "       0., 1., 1., 1., 1., 1., 0., 1., 1., 1., 1., 1., 1., 1., 1., 1., 1.,\n",
              "       1., 1., 1., 1., 1., 1., 1., 1., 1.], dtype=float32)>"
            ]
          },
          "metadata": {},
          "execution_count": 34
        },
        {
          "output_type": "stream",
          "name": "stdout",
          "text": [
            "\n",
            "Malware samples evaluation:\n",
            "315/315 [==============================] - 26s 80ms/step - loss: 4.4138 - binary_accuracy: 0.6063\n"
          ]
        },
        {
          "output_type": "execute_result",
          "data": {
            "text/plain": [
              "[4.413766384124756, 0.6063492298126221]"
            ]
          },
          "metadata": {},
          "execution_count": 34
        },
        {
          "output_type": "stream",
          "name": "stdout",
          "text": [
            "Poisoned samples evaluation:\n",
            "315/315 [==============================] - 23s 73ms/step - loss: 8.2103 - binary_accuracy: 0.3933\n"
          ]
        },
        {
          "output_type": "execute_result",
          "data": {
            "text/plain": [
              "[8.210291862487793, 0.39325398206710815]"
            ]
          },
          "metadata": {},
          "execution_count": 34
        },
        {
          "output_type": "stream",
          "name": "stdout",
          "text": [
            "\n",
            "Goodware samples evaluation:\n",
            "75/75 [==============================] - 5s 66ms/step - loss: 1.5754e-05 - binary_accuracy: 1.0000\n"
          ]
        },
        {
          "output_type": "execute_result",
          "data": {
            "text/plain": [
              "[1.5754098058096133e-05, 1.0]"
            ]
          },
          "metadata": {},
          "execution_count": 34
        }
      ],
      "source": [
        "print(\"\\nMalware samples evaluation:\")\n",
        "test_model.evaluate(x=malware_data_generator, steps=len(dataset_malware) // 8, use_multiprocessing=True)\n",
        "print(\"Poisoned samples evaluation:\")\n",
        "test_model.evaluate(x=poisoned_data_generator, steps=len(dataset_poisoned) // 8, use_multiprocessing=True)\n",
        "print(\"\\nGoodware samples evaluation:\")\n",
        "test_model.evaluate(x=goodware_data_generator, steps=len(dataset_goodware) // 8, use_multiprocessing=True)"
      ]
    },
    {
      "cell_type": "markdown",
      "source": [
        "## Plots"
      ],
      "metadata": {
        "id": "Yrz7frytg_ZY"
      }
    },
    {
      "cell_type": "code",
      "source": [
        "n1 = 49\n",
        "mu_p1, std_p1 = 1.8985368, 3.9084904\n",
        "mu_c1, std_c1 = 1.1389267, 2.9125874\n",
        "xmin1, xmax1 = 0.0, 3.8105601310729984\n",
        "n2 = 83\n",
        "mu_p2, std_p2 = 9.589286, 14.736163\n",
        "mu_c2, std_c2 = 11.116, 15.611832\n",
        "xmin2, xmax2 = 0.0, 21.43094940185547\n",
        "n3 = 28\n",
        "mu_p3, std_p3 = 4.8648076, 6.861976\n",
        "mu_c3, std_c3 = 2.3000166, 4.4888372\n",
        "xmin3, xmax3 = 0.0, 11.330748558044434\n",
        "n4 = 113\n",
        "mu_p4, std_p4 = 14.095995, 11.100413\n",
        "mu_c4, std_c4 = 8.652591, 9.333126\n",
        "xmin4, xmax4 = 0.0, 23.784633255004884\n",
        "n5 = 124\n",
        "mu_p5, std_p5 = 4.447335, 9.920801\n",
        "mu_c5, std_c5 = 8.184857, 11.940381\n",
        "xmin5, xmax5 = 0.0, 14.736009216308593"
      ],
      "metadata": {
        "id": "hZrhFdMphA3N"
      },
      "execution_count": null,
      "outputs": []
    },
    {
      "cell_type": "code",
      "source": [
        "fig, axis = plt.subplots(1,3, figsize=(20,5))\n",
        "plt.xlabel('Output activation')\n",
        "plt.ylabel('Density of probability')\n",
        "\n",
        "x = np.linspace(xmin1, xmax1, 100)\n",
        "p = norm.pdf(x, mu_p1, np.sqrt(std_p1))\n",
        "c = norm.pdf(x, mu_c1, np.sqrt(std_c1))\n",
        "axis[0].set_title('Neuron index: 49')\n",
        "axis[0].plot(x, p, 'g', linewidth=2, label='clean')\n",
        "axis[0].plot(x, c, 'r', linewidth=2, label='poisoned')\n",
        "axis[0].legend()\n",
        "\n",
        "x = np.linspace(xmin2, xmax2, 100)\n",
        "p = norm.pdf(x, mu_p2, np.sqrt(std_p2))\n",
        "c = norm.pdf(x, mu_c2, np.sqrt(std_c2))\n",
        "axis[1].set_title('Neuron index: 83')\n",
        "axis[1].plot(x, p, 'g', linewidth=2, label='clean')\n",
        "axis[1].plot(x, c, 'r', linewidth=2, label='poisoned')\n",
        "axis[1].legend()\n",
        "\n",
        "x = np.linspace(xmin3, xmax3, 100)\n",
        "p = norm.pdf(x, mu_p3, np.sqrt(std_p3))\n",
        "c = norm.pdf(x, mu_c3, np.sqrt(std_c3))\n",
        "axis[2].set_title('Neuron index: 28')\n",
        "axis[2].plot(x, p, 'g', linewidth=2, label='clean')\n",
        "axis[2].plot(x, c, 'r', linewidth=2, label='poisoned')\n",
        "axis[2].legend()\n",
        "\n",
        "fig.savefig('/content/drive/MyDrive/PoliMi Thesis/perturbation_charts/attack_pre_1.pdf')"
      ],
      "metadata": {
        "colab": {
          "base_uri": "https://localhost:8080/",
          "height": 402
        },
        "id": "ltihl9ANhhRK",
        "outputId": "d82ea9d9-b327-4783-80cc-948d88cae15c"
      },
      "execution_count": null,
      "outputs": [
        {
          "output_type": "execute_result",
          "data": {
            "text/plain": [
              "Text(0.5, 0, 'Output activation')"
            ]
          },
          "metadata": {},
          "execution_count": 70
        },
        {
          "output_type": "execute_result",
          "data": {
            "text/plain": [
              "Text(0, 0.5, 'Density of probability')"
            ]
          },
          "metadata": {},
          "execution_count": 70
        },
        {
          "output_type": "execute_result",
          "data": {
            "text/plain": [
              "Text(0.5, 1.0, 'Neuron index: 49')"
            ]
          },
          "metadata": {},
          "execution_count": 70
        },
        {
          "output_type": "execute_result",
          "data": {
            "text/plain": [
              "[<matplotlib.lines.Line2D at 0x7f8310f755d0>]"
            ]
          },
          "metadata": {},
          "execution_count": 70
        },
        {
          "output_type": "execute_result",
          "data": {
            "text/plain": [
              "[<matplotlib.lines.Line2D at 0x7f8310f75c50>]"
            ]
          },
          "metadata": {},
          "execution_count": 70
        },
        {
          "output_type": "execute_result",
          "data": {
            "text/plain": [
              "<matplotlib.legend.Legend at 0x7f8310fd3850>"
            ]
          },
          "metadata": {},
          "execution_count": 70
        },
        {
          "output_type": "execute_result",
          "data": {
            "text/plain": [
              "Text(0.5, 1.0, 'Neuron index: 83')"
            ]
          },
          "metadata": {},
          "execution_count": 70
        },
        {
          "output_type": "execute_result",
          "data": {
            "text/plain": [
              "[<matplotlib.lines.Line2D at 0x7f8310f895d0>]"
            ]
          },
          "metadata": {},
          "execution_count": 70
        },
        {
          "output_type": "execute_result",
          "data": {
            "text/plain": [
              "[<matplotlib.lines.Line2D at 0x7f8310f89cd0>]"
            ]
          },
          "metadata": {},
          "execution_count": 70
        },
        {
          "output_type": "execute_result",
          "data": {
            "text/plain": [
              "<matplotlib.legend.Legend at 0x7f831108e510>"
            ]
          },
          "metadata": {},
          "execution_count": 70
        },
        {
          "output_type": "execute_result",
          "data": {
            "text/plain": [
              "Text(0.5, 1.0, 'Neuron index: 28')"
            ]
          },
          "metadata": {},
          "execution_count": 70
        },
        {
          "output_type": "execute_result",
          "data": {
            "text/plain": [
              "[<matplotlib.lines.Line2D at 0x7f8310f9bdd0>]"
            ]
          },
          "metadata": {},
          "execution_count": 70
        },
        {
          "output_type": "execute_result",
          "data": {
            "text/plain": [
              "[<matplotlib.lines.Line2D at 0x7f8310f9bf90>]"
            ]
          },
          "metadata": {},
          "execution_count": 70
        },
        {
          "output_type": "execute_result",
          "data": {
            "text/plain": [
              "<matplotlib.legend.Legend at 0x7f83113b0e10>"
            ]
          },
          "metadata": {},
          "execution_count": 70
        },
        {
          "output_type": "display_data",
          "data": {
            "text/plain": [
              "<Figure size 1440x360 with 3 Axes>"
            ],
            "image/png": "[encoded data removed]"
          },
          "metadata": {
            "needs_background": "light"
          }
        }
      ]
    },
    {
      "cell_type": "code",
      "source": [
        "fig, axis = plt.subplots(1,2, figsize=(13,5))\n",
        "plt.xlabel('Output activation')\n",
        "plt.ylabel('Density of probability')\n",
        "\n",
        "x = np.linspace(xmin4, xmax4, 100)\n",
        "p = norm.pdf(x, mu_p4, np.sqrt(std_p4))\n",
        "c = norm.pdf(x, mu_c4, np.sqrt(std_c4))\n",
        "axis[0].set_title('Neuron index: 113')\n",
        "axis[0].plot(x, p, 'g', linewidth=2, label='clean')\n",
        "axis[0].plot(x, c, 'r', linewidth=2, label='poisoned')\n",
        "axis[0].legend()\n",
        "\n",
        "x = np.linspace(xmin5, xmax5, 100)\n",
        "p = norm.pdf(x, mu_p5, np.sqrt(std_p5))\n",
        "c = norm.pdf(x, mu_c5, np.sqrt(std_c5))\n",
        "axis[1].set_title('Neuron index: 124')\n",
        "axis[1].plot(x, p, 'g', linewidth=2, label='clean')\n",
        "axis[1].plot(x, c, 'r', linewidth=2, label='poisoned')\n",
        "axis[1].legend()\n",
        "\n",
        "fig.savefig('/content/drive/MyDrive/PoliMi Thesis/perturbation_charts/attack_pre_2.pdf')"
      ],
      "metadata": {
        "id": "rehYBWCiZ_S_",
        "colab": {
          "base_uri": "https://localhost:8080/",
          "height": 385
        },
        "outputId": "74929938-5f64-4416-b846-2e7d5585028b"
      },
      "execution_count": null,
      "outputs": [
        {
          "output_type": "execute_result",
          "data": {
            "text/plain": [
              "Text(0.5, 0, 'Output activation')"
            ]
          },
          "metadata": {},
          "execution_count": 71
        },
        {
          "output_type": "execute_result",
          "data": {
            "text/plain": [
              "Text(0, 0.5, 'Density of probability')"
            ]
          },
          "metadata": {},
          "execution_count": 71
        },
        {
          "output_type": "execute_result",
          "data": {
            "text/plain": [
              "Text(0.5, 1.0, 'Neuron index: 113')"
            ]
          },
          "metadata": {},
          "execution_count": 71
        },
        {
          "output_type": "execute_result",
          "data": {
            "text/plain": [
              "[<matplotlib.lines.Line2D at 0x7f8310ea5550>]"
            ]
          },
          "metadata": {},
          "execution_count": 71
        },
        {
          "output_type": "execute_result",
          "data": {
            "text/plain": [
              "[<matplotlib.lines.Line2D at 0x7f8310ea5b10>]"
            ]
          },
          "metadata": {},
          "execution_count": 71
        },
        {
          "output_type": "execute_result",
          "data": {
            "text/plain": [
              "<matplotlib.legend.Legend at 0x7f8310e88850>"
            ]
          },
          "metadata": {},
          "execution_count": 71
        },
        {
          "output_type": "execute_result",
          "data": {
            "text/plain": [
              "Text(0.5, 1.0, 'Neuron index: 124')"
            ]
          },
          "metadata": {},
          "execution_count": 71
        },
        {
          "output_type": "execute_result",
          "data": {
            "text/plain": [
              "[<matplotlib.lines.Line2D at 0x7f8310e3c4d0>]"
            ]
          },
          "metadata": {},
          "execution_count": 71
        },
        {
          "output_type": "execute_result",
          "data": {
            "text/plain": [
              "[<matplotlib.lines.Line2D at 0x7f8310e3ca50>]"
            ]
          },
          "metadata": {},
          "execution_count": 71
        },
        {
          "output_type": "execute_result",
          "data": {
            "text/plain": [
              "<matplotlib.legend.Legend at 0x7f8310f319d0>"
            ]
          },
          "metadata": {},
          "execution_count": 71
        },
        {
          "output_type": "display_data",
          "data": {
            "text/plain": [
              "<Figure size 936x360 with 2 Axes>"
            ],
            "image/png": "[encoded data removed]"
          },
          "metadata": {
            "needs_background": "light"
          }
        }
      ]
    }
  ],
  "metadata": {
    "colab": {
      "name": "malconv_perturbation.ipynb",
      "provenance": []
    },
    "kernelspec": {
      "display_name": "Python 3",
      "name": "python3"
    },
    "language_info": {
      "name": "python"
    },
    "accelerator": "GPU"
  },
  "nbformat": 4,
  "nbformat_minor": 0
}